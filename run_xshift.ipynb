{
 "cells": [
  {
   "cell_type": "code",
   "execution_count": 1,
   "metadata": {},
   "outputs": [
    {
     "name": "stdout",
     "output_type": "stream",
     "text": [
      "Overwriting ./run_xshift.sh\n"
     ]
    }
   ],
   "source": [
    "%%writefile ./run_xshift.sh\n",
    "#!/bin/bash\n",
    "\n",
    "#SBATCH -n 20                            #Number of cores\n",
    "#SBATCH -N 1                            #Run on 1 node\n",
    "#SBATCH --mem=12000                       #Memory per cpu in MB (see also --mem)\n",
    "\n",
    "#SBATCH -t 10:00:00                     #Runtime in minutes\n",
    "#SBATCH -p serial_requeue               #Partition to submit to\n",
    "\n",
    "cd ${1}\n",
    "cp ../../${2} .\n",
    "mv ${2} fcsFileList.txt\n",
    "cp ../../importConfig.txt .\n",
    "module load centos6/0.0.1-fasrc01\n",
    "module load java/1.8.0_45-fasrc01\n",
    "java -Xmx10G -cp \"../../VorteX.jar\" standalone.Xshift ${3}"
   ]
  },
  {
   "cell_type": "code",
   "execution_count": 1,
   "metadata": {},
   "outputs": [
    {
     "name": "stdout",
     "output_type": "stream",
     "text": [
      "Overwriting ./run_xshift_auto.sh\n"
     ]
    }
   ],
   "source": [
    "%%writefile ./run_xshift_auto.sh\n",
    "#!/bin/bash\n",
    "\n",
    "#SBATCH -n 32                            #Number of cores\n",
    "#SBATCH -N 1                            #Run on 1 node\n",
    "#SBATCH --mem=12000                       #Memory per cpu in MB (see also --mem)\n",
    "\n",
    "#SBATCH -t 15:00:00                     #Runtime in minutes\n",
    "#SBATCH -p serial_requeue               #Partition to submit to\n",
    "\n",
    "cd ${1}\n",
    "cp ../../${2} .\n",
    "mv ${2} fcsFileList.txt\n",
    "cp ../../importConfig.txt .\n",
    "echo ${1}\n",
    "module load centos6/0.0.1-fasrc01\n",
    "module load java/1.8.0_45-fasrc01\n",
    "java -Xmx10G -cp \"../../VorteX.jar\" standalone.Xshift auto"
   ]
  },
  {
   "cell_type": "code",
   "execution_count": 1,
   "metadata": {},
   "outputs": [
    {
     "name": "stdout",
     "output_type": "stream",
     "text": [
      "Submitted batch job 46087869\r\n"
     ]
    }
   ],
   "source": [
    "!sbatch run_xshift.sh BALBc-3/135 fcsFileList_BALBc-3.txt 135"
   ]
  },
  {
   "cell_type": "code",
   "execution_count": 7,
   "metadata": {},
   "outputs": [
    {
     "name": "stderr",
     "output_type": "stream",
     "text": [
      "/n/home05/aewhatley/anaconda3/lib/python3.6/site-packages/fcsparser/api.py:332: UserWarning: The default channel names (defined by the $PnS parameter in the FCS file) were not unique. To avoid problems in downstream analysis, the channel names have been switched to the alternate channel names defined in the FCS file. To avoid seeing this warning message, explicitly instruct the FCS parser to use the alternate channel names by specifying the channel_naming parameter.\n",
      "  warnings.warn(msg)\n"
     ]
    }
   ],
   "source": [
    "import pandas as pd\n",
    "import fcsparser\n",
    "import fcswrite\n",
    "\n",
    "# combine FCS files into one \n",
    "combined_fcs = []\n",
    "for sample in samples:\n",
    "    _, data = fcsparser.parse(fcs_folder + sample + '.fcs')\n",
    "    combined_fcs.append(data)\n",
    "combined_fcs = pd.concat(combined_fcs)\n",
    "fcswrite.write_fcs(filename=fcs_folder+'combined.fcs', \n",
    "                   chn_names=list(combined_fcs.columns), \n",
    "                   data=combined_fcs.values)"
   ]
  },
  {
   "cell_type": "code",
   "execution_count": 3,
   "metadata": {},
   "outputs": [],
   "source": [
    "import os\n",
    "\n",
    "samples = ['BALBc-1', 'BALBc-2', 'BALBc-3', 'MRL-4', 'MRL-5', 'MRL-6', 'MRL-7', 'MRL-8', 'MRL-9', 'combined']\n",
    "#neighbors = range(5, 100+1)\n",
    "neighbors = range(105, 500+1, 5)\n",
    "fcs_folder = '/n/regal/nowak_lab/aewhatley/FCS_Files/'\n",
    "#paths = [fcs_folder + filename for filename in os.listdir(fcs_folder)]\n",
    "for sample in samples:\n",
    "    paths = [fcs_folder + sample + '.fcs']\n",
    "    f = open('fcsFileList_{}.txt'.format(sample), 'w')\n",
    "    f.write('\\n'.join(paths))\n",
    "    f.close()"
   ]
  },
  {
   "cell_type": "code",
   "execution_count": 3,
   "metadata": {},
   "outputs": [],
   "source": [
    "import subprocess\n",
    "import os\n",
    "\n",
    "for sample_type in samples:\n",
    "    if not os.path.isdir(sample_type):\n",
    "        os.mkdir(sample_type)\n",
    "    for i in neighbors:\n",
    "        if not os.path.isdir(sample_type + '/' + str(i)):\n",
    "            os.makedirs(sample_type + '/' + str(i))\n",
    "        if not os.path.isdir(sample_type + '/' + str(i) + '/out'):\n",
    "            subprocess.Popen('sbatch run_xshift.sh {} {} {}'.format(sample_type + '/' + str(i),\n",
    "                                                                    'fcsFileList_{}.txt'.format(sample_type),\n",
    "                                                                    i), shell=True)"
   ]
  },
  {
   "cell_type": "code",
   "execution_count": 5,
   "metadata": {},
   "outputs": [],
   "source": [
    "import subprocess\n",
    "import os\n",
    "\n",
    "# get elbow point for each sample \n",
    "for sample_type in samples:\n",
    "    if not os.path.isdir(sample_type):\n",
    "        os.mkdir(sample_type)\n",
    "    if not os.path.isdir(sample_type + '/auto'):\n",
    "        os.makedirs(sample_type + '/auto')\n",
    "    if not os.path.isdir(sample_type + '/auto/out'):\n",
    "        subprocess.Popen('sbatch run_xshift_auto.sh {} {}'.format(sample_type + '/auto',\n",
    "                                                                'fcsFileList_{}.txt'.format(sample_type)), \n",
    "                         shell=True)"
   ]
  },
  {
   "cell_type": "code",
   "execution_count": 5,
   "metadata": {},
   "outputs": [
    {
     "name": "stderr",
     "output_type": "stream",
     "text": [
      "/n/home05/aewhatley/anaconda3/lib/python3.6/site-packages/fcsparser/api.py:332: UserWarning: The default channel names (defined by the $PnS parameter in the FCS file) were not unique. To avoid problems in downstream analysis, the channel names have been switched to the alternate channel names defined in the FCS file. To avoid seeing this warning message, explicitly instruct the FCS parser to use the alternate channel names by specifying the channel_naming parameter.\n",
      "  warnings.warn(msg)\n"
     ]
    }
   ],
   "source": [
    "import pandas as pd\n",
    "import fcsparser \n",
    "\n",
    "# combine all generated fcs files together \n",
    "def concat_files(filename='BALBc-1.fcs'):\n",
    "    concat_data = []\n",
    "    for i in neighbors:\n",
    "        file_path = 'BALBc-1/' + str(i) + '/out/' + filename\n",
    "        if os.path.isfile(file_path):\n",
    "            _, df = fcsparser.parse(file_path)\n",
    "            df['Neighbors'] = i\n",
    "            concat_data.append(df)\n",
    "    concat_data = pd.concat(concat_data)\n",
    "    concat_data.to_csv('concat.csv', index=False)\n",
    "    \n",
    "concat_files()"
   ]
  },
  {
   "cell_type": "code",
   "execution_count": 3,
   "metadata": {},
   "outputs": [
    {
     "name": "stdout",
     "output_type": "stream",
     "text": [
      "Index(['CD45', 'Ly6C', 'TCR', 'Ly6G', 'CD19', 'CD169', 'CD106', 'CD3', 'CD16',\n",
      "       'CD8a', 'CD90', 'F4', 'CD11c', 'Ter119', 'CD11b', 'IgD', 'CD27', 'CD5',\n",
      "       'CD79b', 'CD71', 'CD31', 'CD4', 'IgM', 'B220', 'ERTR7', 'CD35', 'CD21',\n",
      "       'CD44', 'NKp46'],\n",
      "      dtype='object')\n"
     ]
    },
    {
     "name": "stderr",
     "output_type": "stream",
     "text": [
      "/n/home05/aewhatley/anaconda3/lib/python3.6/site-packages/fcsparser/api.py:332: UserWarning: The default channel names (defined by the $PnS parameter in the FCS file) were not unique. To avoid problems in downstream analysis, the channel names have been switched to the alternate channel names defined in the FCS file. To avoid seeing this warning message, explicitly instruct the FCS parser to use the alternate channel names by specifying the channel_naming parameter.\n",
      "  warnings.warn(msg)\n"
     ]
    }
   ],
   "source": [
    "import fcsparser\n",
    "\n",
    "file = '/n/regal/nowak_lab/aewhatley/FCS_Files/BALBc-1.fcs'\n",
    "_, data = fcsparser.parse(file)\n",
    "print(data.columns[0:29])"
   ]
  },
  {
   "cell_type": "code",
   "execution_count": 4,
   "metadata": {},
   "outputs": [
    {
     "data": {
      "text/html": [
       "<div>\n",
       "<style scoped>\n",
       "    .dataframe tbody tr th:only-of-type {\n",
       "        vertical-align: middle;\n",
       "    }\n",
       "\n",
       "    .dataframe tbody tr th {\n",
       "        vertical-align: top;\n",
       "    }\n",
       "\n",
       "    .dataframe thead th {\n",
       "        text-align: right;\n",
       "    }\n",
       "</style>\n",
       "<table border=\"1\" class=\"dataframe\">\n",
       "  <thead>\n",
       "    <tr style=\"text-align: right;\">\n",
       "      <th></th>\n",
       "      <th>CD45</th>\n",
       "      <th>Ly6C</th>\n",
       "      <th>TCR</th>\n",
       "      <th>Ly6G</th>\n",
       "      <th>CD19</th>\n",
       "      <th>CD169</th>\n",
       "      <th>CD106</th>\n",
       "      <th>CD3</th>\n",
       "      <th>CD16</th>\n",
       "      <th>CD8a</th>\n",
       "      <th>...</th>\n",
       "      <th>Z.Z</th>\n",
       "      <th>size.size</th>\n",
       "      <th>MHCII</th>\n",
       "      <th>blank_Cy3_cyc15</th>\n",
       "      <th>blank_Cy5_cyc15</th>\n",
       "      <th>blank_Cy3_cyc16</th>\n",
       "      <th>blank_Cy5_cyc16</th>\n",
       "      <th>region</th>\n",
       "      <th>sampleid</th>\n",
       "      <th>cluster X-shift (Gradient assignment),  K=60</th>\n",
       "    </tr>\n",
       "  </thead>\n",
       "  <tbody>\n",
       "    <tr>\n",
       "      <th>0</th>\n",
       "      <td>7513.909180</td>\n",
       "      <td>-9.574835</td>\n",
       "      <td>3305.558594</td>\n",
       "      <td>-6.746789</td>\n",
       "      <td>1245.058594</td>\n",
       "      <td>-286.788666</td>\n",
       "      <td>3036.938477</td>\n",
       "      <td>783.750916</td>\n",
       "      <td>3627.429932</td>\n",
       "      <td>848.653809</td>\n",
       "      <td>...</td>\n",
       "      <td>9.0</td>\n",
       "      <td>15093.0</td>\n",
       "      <td>3196.876221</td>\n",
       "      <td>2159.819092</td>\n",
       "      <td>858.781189</td>\n",
       "      <td>1317.001465</td>\n",
       "      <td>1390.218506</td>\n",
       "      <td>1.0</td>\n",
       "      <td>1000.0</td>\n",
       "      <td>9619.0</td>\n",
       "    </tr>\n",
       "    <tr>\n",
       "      <th>1</th>\n",
       "      <td>-56.765057</td>\n",
       "      <td>-53.891575</td>\n",
       "      <td>76.769524</td>\n",
       "      <td>-0.275126</td>\n",
       "      <td>-35.436699</td>\n",
       "      <td>119.786873</td>\n",
       "      <td>-854.304810</td>\n",
       "      <td>251.204300</td>\n",
       "      <td>-579.770325</td>\n",
       "      <td>231.985855</td>\n",
       "      <td>...</td>\n",
       "      <td>9.0</td>\n",
       "      <td>9828.0</td>\n",
       "      <td>-54.244442</td>\n",
       "      <td>-139.026733</td>\n",
       "      <td>99.173172</td>\n",
       "      <td>205.848129</td>\n",
       "      <td>403.930115</td>\n",
       "      <td>1.0</td>\n",
       "      <td>1000.0</td>\n",
       "      <td>9615.0</td>\n",
       "    </tr>\n",
       "    <tr>\n",
       "      <th>2</th>\n",
       "      <td>2779.814697</td>\n",
       "      <td>275.005005</td>\n",
       "      <td>550.123596</td>\n",
       "      <td>224.658813</td>\n",
       "      <td>794.820862</td>\n",
       "      <td>558.794495</td>\n",
       "      <td>5265.109375</td>\n",
       "      <td>333.537537</td>\n",
       "      <td>3043.125488</td>\n",
       "      <td>1328.199097</td>\n",
       "      <td>...</td>\n",
       "      <td>9.0</td>\n",
       "      <td>6836.0</td>\n",
       "      <td>954.858582</td>\n",
       "      <td>1263.183472</td>\n",
       "      <td>884.518860</td>\n",
       "      <td>1288.393311</td>\n",
       "      <td>1583.370728</td>\n",
       "      <td>1.0</td>\n",
       "      <td>1000.0</td>\n",
       "      <td>9613.0</td>\n",
       "    </tr>\n",
       "    <tr>\n",
       "      <th>3</th>\n",
       "      <td>2385.769287</td>\n",
       "      <td>-84.199524</td>\n",
       "      <td>441.045197</td>\n",
       "      <td>-28.191748</td>\n",
       "      <td>1145.059448</td>\n",
       "      <td>-585.042664</td>\n",
       "      <td>445.197876</td>\n",
       "      <td>-730.253906</td>\n",
       "      <td>194.302200</td>\n",
       "      <td>530.927307</td>\n",
       "      <td>...</td>\n",
       "      <td>9.0</td>\n",
       "      <td>6193.0</td>\n",
       "      <td>3299.813965</td>\n",
       "      <td>1704.029785</td>\n",
       "      <td>563.394043</td>\n",
       "      <td>1578.766846</td>\n",
       "      <td>513.424866</td>\n",
       "      <td>1.0</td>\n",
       "      <td>1000.0</td>\n",
       "      <td>9640.0</td>\n",
       "    </tr>\n",
       "    <tr>\n",
       "      <th>4</th>\n",
       "      <td>747.012817</td>\n",
       "      <td>110.129936</td>\n",
       "      <td>347.603699</td>\n",
       "      <td>103.125900</td>\n",
       "      <td>216.466614</td>\n",
       "      <td>49.535763</td>\n",
       "      <td>828.020813</td>\n",
       "      <td>-66.413368</td>\n",
       "      <td>538.524170</td>\n",
       "      <td>413.145752</td>\n",
       "      <td>...</td>\n",
       "      <td>7.0</td>\n",
       "      <td>7120.0</td>\n",
       "      <td>864.733765</td>\n",
       "      <td>1115.607056</td>\n",
       "      <td>579.967407</td>\n",
       "      <td>1081.695557</td>\n",
       "      <td>929.925781</td>\n",
       "      <td>1.0</td>\n",
       "      <td>1000.0</td>\n",
       "      <td>9613.0</td>\n",
       "    </tr>\n",
       "  </tbody>\n",
       "</table>\n",
       "<p>5 rows × 43 columns</p>\n",
       "</div>"
      ],
      "text/plain": [
       "          CD45        Ly6C          TCR        Ly6G         CD19       CD169  \\\n",
       "0  7513.909180   -9.574835  3305.558594   -6.746789  1245.058594 -286.788666   \n",
       "1   -56.765057  -53.891575    76.769524   -0.275126   -35.436699  119.786873   \n",
       "2  2779.814697  275.005005   550.123596  224.658813   794.820862  558.794495   \n",
       "3  2385.769287  -84.199524   441.045197  -28.191748  1145.059448 -585.042664   \n",
       "4   747.012817  110.129936   347.603699  103.125900   216.466614   49.535763   \n",
       "\n",
       "         CD106         CD3         CD16         CD8a  \\\n",
       "0  3036.938477  783.750916  3627.429932   848.653809   \n",
       "1  -854.304810  251.204300  -579.770325   231.985855   \n",
       "2  5265.109375  333.537537  3043.125488  1328.199097   \n",
       "3   445.197876 -730.253906   194.302200   530.927307   \n",
       "4   828.020813  -66.413368   538.524170   413.145752   \n",
       "\n",
       "                       ...                       Z.Z  size.size        MHCII  \\\n",
       "0                      ...                       9.0    15093.0  3196.876221   \n",
       "1                      ...                       9.0     9828.0   -54.244442   \n",
       "2                      ...                       9.0     6836.0   954.858582   \n",
       "3                      ...                       9.0     6193.0  3299.813965   \n",
       "4                      ...                       7.0     7120.0   864.733765   \n",
       "\n",
       "   blank_Cy3_cyc15  blank_Cy5_cyc15  blank_Cy3_cyc16  blank_Cy5_cyc16  region  \\\n",
       "0      2159.819092       858.781189      1317.001465      1390.218506     1.0   \n",
       "1      -139.026733        99.173172       205.848129       403.930115     1.0   \n",
       "2      1263.183472       884.518860      1288.393311      1583.370728     1.0   \n",
       "3      1704.029785       563.394043      1578.766846       513.424866     1.0   \n",
       "4      1115.607056       579.967407      1081.695557       929.925781     1.0   \n",
       "\n",
       "   sampleid  cluster X-shift (Gradient assignment),  K=60  \n",
       "0    1000.0                                        9619.0  \n",
       "1    1000.0                                        9615.0  \n",
       "2    1000.0                                        9613.0  \n",
       "3    1000.0                                        9640.0  \n",
       "4    1000.0                                        9613.0  \n",
       "\n",
       "[5 rows x 43 columns]"
      ]
     },
     "execution_count": 4,
     "metadata": {},
     "output_type": "execute_result"
    }
   ],
   "source": [
    "data.head()"
   ]
  },
  {
   "cell_type": "code",
   "execution_count": 1,
   "metadata": {},
   "outputs": [
    {
     "name": "stderr",
     "output_type": "stream",
     "text": [
      "/n/home05/aewhatley/anaconda3/lib/python3.6/site-packages/fcsparser/api.py:332: UserWarning: The default channel names (defined by the $PnS parameter in the FCS file) were not unique. To avoid problems in downstream analysis, the channel names have been switched to the alternate channel names defined in the FCS file. To avoid seeing this warning message, explicitly instruct the FCS parser to use the alternate channel names by specifying the channel_naming parameter.\n",
      "  warnings.warn(msg)\n"
     ]
    },
    {
     "data": {
      "text/plain": [
       "<Figure size 640x480 with 1 Axes>"
      ]
     },
     "metadata": {},
     "output_type": "display_data"
    }
   ],
   "source": [
    "import fcsparser\n",
    "import numpy as np\n",
    "import matplotlib.pyplot as plt \n",
    "import pandas as pd \n",
    "\n",
    "samples = ['BALBc-1', 'BALBc-2', 'BALBc-3', 'MRL-4', 'MRL-5', 'MRL-6', 'MRL-7', 'MRL-8', 'MRL-9', 'combined']\n",
    "elbows = []\n",
    "for sample in samples:\n",
    "    _, data = fcsparser.parse(sample + '/auto/out/' + sample + '.fcs')\n",
    "    elbow = len(data['cluster_id'].unique())\n",
    "    elbows.append(elbow)\n",
    "    \n",
    "elbow_df = pd.DataFrame({'Samples': samples, 'Elbow Point': elbows})\n",
    "elbow_df.to_html('elbow_point.html')\n",
    "\n",
    "plt.plot(np.arange(len(samples)), elbows)\n",
    "plt.xticks(np.arange(len(samples)), samples, rotation='vertical')\n",
    "plt.ylabel('K')\n",
    "plt.show()"
   ]
  },
  {
   "cell_type": "code",
   "execution_count": null,
   "metadata": {},
   "outputs": [],
   "source": []
  }
 ],
 "metadata": {
  "kernelspec": {
   "display_name": "Python 3",
   "language": "python",
   "name": "python3"
  },
  "language_info": {
   "codemirror_mode": {
    "name": "ipython",
    "version": 3
   },
   "file_extension": ".py",
   "mimetype": "text/x-python",
   "name": "python",
   "nbconvert_exporter": "python",
   "pygments_lexer": "ipython3",
   "version": "3.6.3"
  }
 },
 "nbformat": 4,
 "nbformat_minor": 2
}
